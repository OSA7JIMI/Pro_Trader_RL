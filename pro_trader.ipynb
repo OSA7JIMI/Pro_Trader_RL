{
 "cells": [
  {
   "cell_type": "code",
   "execution_count": null,
   "id": "99f8a56a-c06a-490c-af48-46b408f41b90",
   "metadata": {},
   "outputs": [],
   "source": [
    "from environment import BuyKnowledge, SellKnowledge\n",
    "from preprocessing import donchian_signals, wrapper_func\n",
    "from stable_baselines3 import PPO\n",
    "import pandas as pd"
   ]
  },
  {
   "cell_type": "code",
   "execution_count": null,
   "id": "7cc661cc-a12d-4e98-b4ba-a2f676162c2b",
   "metadata": {},
   "outputs": [],
   "source": [
    "import exchange_api as ex"
   ]
  },
  {
   "cell_type": "markdown",
   "id": "e90fa4bf-b08d-4359-a147-4b202dfe3d0a",
   "metadata": {},
   "source": [
    "# Check current balance and remove currency balances"
   ]
  },
  {
   "cell_type": "code",
   "execution_count": null,
   "id": "6f3d5ddf-9655-4ef4-9fbc-694bc5ab93f3",
   "metadata": {},
   "outputs": [],
   "source": [
    "bal = ex.get_balance()\n",
    "usd = float(bal.pop(‘USD’, None))"
   ]
  },
  {
   "cell_type": "markdown",
   "id": "ed3af6f4-5484-4d18-827d-5cd31c55afc1",
   "metadata": {},
   "source": [
    "# Generate Donchian buy signals and calculate 20 day return"
   ]
  },
  {
   "cell_type": "code",
   "execution_count": null,
   "id": "30c4ea18-87d9-402d-ae0a-79c87c8ecbe3",
   "metadata": {},
   "outputs": [],
   "source": [
    "sp500 = pd.read_excel('SP500.xlsx')\n",
    "sp500 = sp500.astype(str)"
   ]
  },
  {
   "cell_type": "code",
   "execution_count": null,
   "id": "8a7e48a0-8d73-4c1a-8b98-bd84a0cbf9a7",
   "metadata": {},
   "outputs": [],
   "source": [
    "buy_symbols = []\n",
    "sideways_20 = {}\n",
    "current_price = {} \n",
    "for symbol in sp500['Symbol']: \n",
    "    df = donchian_signals(symbol)\n",
    "    sideways_20[symbol] = df.iloc[-1].close/ df.iloc[0].close -1\n",
    "    current_price[symbol] = df.iloc[-1].close\n",
    "    if df.iloc[-1].buy_signal and not df.iloc[-2].buy_signal:\n",
    "        buy_symbols.append(symbolusd)"
   ]
  },
  {
   "cell_type": "markdown",
   "id": "fe7d9867-3e99-43d1-b42f-ab32fd8ba07c",
   "metadata": {},
   "source": [
    "# Sell logic"
   ]
  },
  {
   "cell_type": "markdown",
   "id": "f54ec568-3b4c-49be-a3f5-48ca8d220699",
   "metadata": {},
   "source": [
    "## Get trade history\n",
    "Some minor changes to lines involving the \"trades\" dataframe may be required depending on the format of the trade history data provided by your exchange  "
   ]
  },
  {
   "cell_type": "code",
   "execution_count": null,
   "id": "45f2ab28-5eb7-4bc3-b36f-d4205903177d",
   "metadata": {},
   "outputs": [],
   "source": [
    "trades = ex.get_past_trades()\n",
    "for col in ['price','amount','fee_amount']:\n",
    "    trades[col] = pd.to_numeric(trades[col])"
   ]
  },
  {
   "cell_type": "markdown",
   "id": "a235ea57-8bdb-45a4-bfa2-fce0479feb87",
   "metadata": {},
   "source": [
    "## Calculate sell return (profit of selling a stock today), execute stop-loss module (refer to source paper for more info), and get data for the remaining stocks"
   ]
  },
  {
   "cell_type": "code",
   "execution_count": null,
   "id": "424a7376-6b87-4d10-914c-9ee1f67f1e08",
   "metadata": {},
   "outputs": [],
   "source": [
    "sell_symbols = []\n",
    "sell_returns = []\n",
    "sell_data = pd.DataFrame()\n",
    "for symbol in bal: \n",
    "    # Calculate average buy price since the last sell point\n",
    "    last_sell_index = trades[(trades['symbol']==symbol+'USD') & (trades['type'] == 'Sell')].index[0]\n",
    "    last_buys = trades[trades['symbol']==symbol+'USD'].loc[:last_sell_index-1]\n",
    "    last_buys['spent'] = last_buys['price'] * last_buys['amount'] + last_buys['fee_amount']\n",
    "    last_buy_price = last_buys['spent'].sum()/last_buys['amount'].sum()\n",
    "    \n",
    "    symbol = symbol.lower()\n",
    "    sell_return = current_price[symbol] / last_buy_price -1\n",
    "    # Stop Loss: sideways and dips\n",
    "    if sideways_20[symbol] <0.1 or sell_return < 0.1:\n",
    "        try:\n",
    "            amount = float(bal[symbol.upper()])\n",
    "            print(ex.stop_loss_sell(symbol, amount))\n",
    "        except:\n",
    "            print(f'Sell {symbol} failed')\n",
    "\n",
    "    # Get data for other held symbols\n",
    "    else:\n",
    "        _, df = wrapper_func(symbol, days = 390, calculate_returns = False)\n",
    "        sell_symbols.append(symbol)\n",
    "        sell_returns.append(sell_return)\n",
    "        sell_data = pd.concat([sell_data, df.iloc[-1,:-2].reset_index(drop=True)], axis = 1)\n",
    "\n",
    "sell_data = sell_data.T\n",
    "sell_data['sell_return'] = sell_returns"
   ]
  },
  {
   "cell_type": "markdown",
   "id": "acf16b09-fa4e-42a9-b123-e9254f277fd4",
   "metadata": {},
   "source": [
    "## Evaluate stocks not sold by stop-loss"
   ]
  },
  {
   "cell_type": "code",
   "execution_count": null,
   "id": "40e51d49-6435-4a15-acd5-01bd39640c86",
   "metadata": {},
   "outputs": [],
   "source": [
    "if len(sell_symbols) > 0:\n",
    "    # Initialise deployment environment and model\n",
    "    env = SellKnowledge(sell_data, train_mode = False)\n",
    "    model = PPO.load('sell_knowledge_agent')\n",
    "    obs,info = env.reset()\n",
    "    done = False\n",
    "    actions = []\n",
    "\n",
    "    # Run model to get predicted probabilities \n",
    "    while True:\n",
    "        try:\n",
    "            action, _states = model.predict(pd.to_numeric(obs))\n",
    "            actions.append(action)\n",
    "        except:\n",
    "            print(f'Prediction failed at {env.cur_step}')\n",
    "            actions.append([-1,-1])\n",
    "        if done:\n",
    "            break\n",
    "        obs, reward, done, trunc, info = env.step(action)\n",
    "\n",
    "    # Sell if P(sell) - P(hold) > 0.85\n",
    "    rank_sells = {}\n",
    "    for i in range(len(sell_symbols)):\n",
    "        rank_sells[sell_symbols[i]] = actions[i]\n",
    "    rank_sells = pd.DataFrame(rank_sells).T.reset_index()\n",
    "    rank_sells['diff'] = rank_sells[0] - rank_sells[1]\n",
    "    rank_sells.to_csv('rank_sells.csv', index = False)\n",
    "    rank_sells = rank_sells[rank_sells['diff'] > 0.85]\n",
    "\n",
    "    # Sell the corresponding symbols \n",
    "    for i in range(len(rank_sells)):\n",
    "        symbolusd = rank_sells.iloc[i]['index']\n",
    "        symbol = symbolusd[:-3]\n",
    "        try:\n",
    "            amount = float(bal[symbol.upper()])\n",
    "            print(ex.new_market_sell(symbol, amount))\n",
    "        except:\n",
    "            print(f'Sell {symbol} failed')"
   ]
  },
  {
   "cell_type": "markdown",
   "id": "774e3e62-6337-45a2-a278-10751f2a528a",
   "metadata": {},
   "source": [
    "# Buy logic"
   ]
  },
  {
   "cell_type": "markdown",
   "id": "5636c3b2-41cd-45b7-af45-c93f1e5b6f00",
   "metadata": {},
   "source": [
    "## Get data for stocks that triggered buy signals"
   ]
  },
  {
   "cell_type": "code",
   "execution_count": null,
   "id": "2b144aaa-09e5-4f20-b84f-c99b2972d8e9",
   "metadata": {},
   "outputs": [],
   "source": [
    "for symbol in buy_symbols:\n",
    "    _, df = wrapper_func(symbol[:-3], days = 390, calculate_returns = False)\n",
    "    buy_data = pd.concat([buy_data, df.iloc[-1,:-2].reset_index(drop=True)], axis = 1)\n",
    "    \n",
    "buy_data = buy_data.T"
   ]
  },
  {
   "cell_type": "markdown",
   "id": "834ba7d1-f8a5-4572-9bc1-5ded60133dcc",
   "metadata": {},
   "source": [
    "## Evaluate stocks to buy"
   ]
  },
  {
   "cell_type": "code",
   "execution_count": null,
   "id": "d3e3ddb2-b95a-4a0f-89b8-d4d704b8be51",
   "metadata": {},
   "outputs": [],
   "source": [
    "buy_amount = 100 # x units of currency, adjust as desired"
   ]
  },
  {
   "cell_type": "code",
   "execution_count": null,
   "id": "ab3171ae-1d97-4048-b0b7-8d090032a931",
   "metadata": {},
   "outputs": [],
   "source": [
    "if len(buy_symbols) > 0:\n",
    "    # Initialise deployment environment and model\n",
    "    env = BuyKnowledge(buy_data, train_mode = False)\n",
    "    model = PPO.load('buy_knowledge_agent')\n",
    "    obs,info = env.reset()\n",
    "    done = False\n",
    "    actions = []\n",
    "\n",
    "    # Run model to get predicted probabilities \n",
    "    while True:\n",
    "        try:\n",
    "            action, _states = model.predict(pd.to_numeric(obs))\n",
    "            actions.append(action)\n",
    "        except:\n",
    "            print(f'Prediction failed at {env.cur_step}')\n",
    "            actions.append([-1,-1])\n",
    "        if done:\n",
    "            break\n",
    "        obs, reward, done, trunc, info = env.step(action)\n",
    "\n",
    "    # Prioritize buy signals with higher probability of high returns\n",
    "    rank_buys = {}\n",
    "    for i in range(len(buy_symbols)):\n",
    "        rank_buys[buy_symbols[i]] = actions[i]\n",
    "    rank_buys = pd.DataFrame(rank_buys).T.reset_index()\n",
    "    rank_buys['diff'] = rank_buys[0] - rank_buys[1]\n",
    "    rank_buys = rank_buys.sort_values(0, ascending = False).reset_index(drop = True) \n",
    "    rank_buys.to_csv('rank_buys.csv', index = False)\n",
    "    rank_buys = rank_buys[rank_buys['diff'] > 0] # increase threshold for lower risk\n",
    "\n",
    "    # Buy the corresponding symbols \n",
    "    for i in range(len(rank_buys)):\n",
    "        row = rank_buys.iloc[i]\n",
    "        symbol = row['index']\n",
    "        try:\n",
    "            print(ex.new_market_buy(symbol, buy_amount))\n",
    "        except:\n",
    "            print('Buy failed, remaining buy signals saved to csv')\n",
    "            rank_buys.iloc[i:].to-csv('remaining_buys.csv', index = False)\n",
    "            break "
   ]
  }
 ],
 "metadata": {
  "kernelspec": {
   "display_name": "Python 3 (ipykernel)",
   "language": "python",
   "name": "python3"
  },
  "language_info": {
   "codemirror_mode": {
    "name": "ipython",
    "version": 3
   },
   "file_extension": ".py",
   "mimetype": "text/x-python",
   "name": "python",
   "nbconvert_exporter": "python",
   "pygments_lexer": "ipython3",
   "version": "3.11.11"
  }
 },
 "nbformat": 4,
 "nbformat_minor": 5
}
